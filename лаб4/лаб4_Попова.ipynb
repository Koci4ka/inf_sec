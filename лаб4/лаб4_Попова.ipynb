{
  "cells": [
    {
      "cell_type": "code",
      "execution_count": 1,
      "id": "08c4cce7",
      "metadata": {
        "id": "08c4cce7"
      },
      "outputs": [],
      "source": [
        "def evklid_simply(a, b):\n",
        "    while a!=0 and b!=0:\n",
        "        if a>=b:\n",
        "            a %= b\n",
        "        else:\n",
        "            b %= a\n",
        "    return a or b\n",
        "\n",
        "def evklid_extended(a, b):\n",
        "    if a == 0:\n",
        "        return (b, 0, 1)\n",
        "    else:\n",
        "        div, x, y = evklid_extended(b%a, a)\n",
        "    return (div, y-(b//a)*x, x)\n",
        "\n",
        "def binary_evklid(a, b):\n",
        "    g = 1\n",
        "    while(a%2 == 0 and b%2 == 0):\n",
        "        a = a/2\n",
        "        b = b/2\n",
        "        g = 2*g\n",
        "    u,v = a,b\n",
        "    while u != 0:\n",
        "        if u%2 == 0:\n",
        "            u = u/2\n",
        "        if v%2 ==0:\n",
        "            v = v/2\n",
        "        if u>=v:\n",
        "            u = u - v\n",
        "        else:\n",
        "            v = v - u\n",
        "    d = g*v\n",
        "    return d"
      ]
    },
    {
      "cell_type": "code",
      "execution_count": 2,
      "id": "bf93f853",
      "metadata": {
        "id": "bf93f853"
      },
      "outputs": [],
      "source": [
        "def evklid_binary_ext(a, b):\n",
        "    g = 1\n",
        "    while(a%2 == 0 and b%2 == 0):\n",
        "        a = a/2\n",
        "        b = b/2\n",
        "        g = 2*g\n",
        "    u = a\n",
        "    v = b\n",
        "    A = 1\n",
        "    B = 0\n",
        "    C = 0\n",
        "    D = 1\n",
        "    while u!=0:\n",
        "        if u%2 == 0:\n",
        "            u = u/2\n",
        "            if A%2 == 0 and B%2 == 0:\n",
        "                A = A/2\n",
        "                B = B/2\n",
        "            else:\n",
        "                A = (A+b)/2\n",
        "                B = (B-a)/2\n",
        "        if v%2 == 0:\n",
        "            v = v/2\n",
        "            if C%2 == 0 and D%2 == 0:\n",
        "                C = C/2\n",
        "                D = D/2\n",
        "            else:\n",
        "                C = (C+b)/2\n",
        "                D = (D-a)/2\n",
        "        if u>=v:\n",
        "            u = u-v\n",
        "            A = A-C\n",
        "            B = B-D\n",
        "        else:\n",
        "            v = v-u\n",
        "            C = C-A\n",
        "            D = D-B\n",
        "    d = g*v\n",
        "    x = C\n",
        "    y = D\n",
        "    return (d, x, y)"
      ]
    },
    {
      "cell_type": "code",
      "execution_count": 39,
      "id": "bda5ddb0",
      "metadata": {
        "id": "bda5ddb0"
      },
      "outputs": [],
      "source": [
        "a = 99\n",
        "b = 8"
      ]
    },
    {
      "cell_type": "code",
      "execution_count": 40,
      "id": "b7dd2d6d",
      "metadata": {
        "colab": {
          "base_uri": "https://localhost:8080/"
        },
        "id": "b7dd2d6d",
        "outputId": "5159658f-7dac-4bc2-faf1-6632e33201d9"
      },
      "outputs": [
        {
          "output_type": "execute_result",
          "data": {
            "text/plain": [
              "1"
            ]
          },
          "metadata": {},
          "execution_count": 40
        }
      ],
      "source": [
        "evklid_simply(a, b)"
      ]
    },
    {
      "cell_type": "code",
      "execution_count": 41,
      "id": "12c8d70d",
      "metadata": {
        "colab": {
          "base_uri": "https://localhost:8080/"
        },
        "id": "12c8d70d",
        "outputId": "41b3228a-f175-4ed7-d718-46ad38bb5def"
      },
      "outputs": [
        {
          "output_type": "execute_result",
          "data": {
            "text/plain": [
              "(1, 3, -37)"
            ]
          },
          "metadata": {},
          "execution_count": 41
        }
      ],
      "source": [
        "evklid_extended(a, b)"
      ]
    },
    {
      "cell_type": "code",
      "execution_count": 42,
      "id": "a5cad52c",
      "metadata": {
        "colab": {
          "base_uri": "https://localhost:8080/"
        },
        "id": "a5cad52c",
        "outputId": "3172672b-4724-460e-d134-2070610fdeae"
      },
      "outputs": [
        {
          "output_type": "execute_result",
          "data": {
            "text/plain": [
              "1.0"
            ]
          },
          "metadata": {},
          "execution_count": 42
        }
      ],
      "source": [
        "binary_evklid(a, b)"
      ]
    },
    {
      "cell_type": "code",
      "execution_count": 43,
      "id": "2cb7c14a",
      "metadata": {
        "colab": {
          "base_uri": "https://localhost:8080/"
        },
        "id": "2cb7c14a",
        "outputId": "e0587c74-0759-4cdb-d109-c03ba6db878e"
      },
      "outputs": [
        {
          "output_type": "execute_result",
          "data": {
            "text/plain": [
              "(1.0, 3.0, -37.0)"
            ]
          },
          "metadata": {},
          "execution_count": 43
        }
      ],
      "source": [
        "evklid_binary_ext(a, b)"
      ]
    }
  ],
  "metadata": {
    "kernelspec": {
      "display_name": "Python 3 (ipykernel)",
      "language": "python",
      "name": "python3"
    },
    "language_info": {
      "codemirror_mode": {
        "name": "ipython",
        "version": 3
      },
      "file_extension": ".py",
      "mimetype": "text/x-python",
      "name": "python",
      "nbconvert_exporter": "python",
      "pygments_lexer": "ipython3",
      "version": "3.9.9"
    },
    "colab": {
      "provenance": []
    }
  },
  "nbformat": 4,
  "nbformat_minor": 5
}